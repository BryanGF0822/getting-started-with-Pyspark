{
  "cells": [
    {
      "cell_type": "markdown",
      "metadata": {
        "id": "view-in-github",
        "colab_type": "text"
      },
      "source": [
        "<a href=\"https://colab.research.google.com/github/BryanGF0822/getting-started-with-Pyspark/blob/main/Getting_Started_with_Pyspark.ipynb\" target=\"_parent\"><img src=\"https://colab.research.google.com/assets/colab-badge.svg\" alt=\"Open In Colab\"/></a>"
      ]
    },
    {
      "cell_type": "markdown",
      "source": [
        "# Pyspark Tutorial: Getting Started with Pyspark\n",
        "\n",
        "Enlace DataCamp: https://www.datacamp.com/tutorial/pyspark-tutorial-getting-started-with-pyspark\n"
      ],
      "metadata": {
        "id": "P7kK6JeGHAy_"
      },
      "id": "P7kK6JeGHAy_"
    },
    {
      "cell_type": "code",
      "execution_count": null,
      "id": "6e851f18",
      "metadata": {
        "scrolled": true,
        "colab": {
          "base_uri": "https://localhost:8080/"
        },
        "id": "6e851f18",
        "outputId": "f062ba79-f309-444f-95d7-f5bb686c3aa3"
      },
      "outputs": [
        {
          "output_type": "stream",
          "name": "stdout",
          "text": [
            "Looking in indexes: https://pypi.org/simple, https://us-python.pkg.dev/colab-wheels/public/simple/\n",
            "Requirement already satisfied: pyspark in /usr/local/lib/python3.9/dist-packages (3.3.2)\n",
            "Requirement already satisfied: py4j==0.10.9.5 in /usr/local/lib/python3.9/dist-packages (from pyspark) (0.10.9.5)\n"
          ]
        }
      ],
      "source": [
        "#Instalación de PySpark\n",
        "!pip install pyspark"
      ]
    },
    {
      "cell_type": "code",
      "source": [
        "#Montamos nuestro Google Drive en Google Colab\n",
        "from google.colab import drive\n",
        "drive.mount('/content/drive')"
      ],
      "metadata": {
        "colab": {
          "base_uri": "https://localhost:8080/"
        },
        "id": "rxtu7ZGk-FGm",
        "outputId": "75e3e6b1-faf2-494a-e1a9-90399c4159f4"
      },
      "id": "rxtu7ZGk-FGm",
      "execution_count": null,
      "outputs": [
        {
          "output_type": "stream",
          "name": "stdout",
          "text": [
            "Drive already mounted at /content/drive; to attempt to forcibly remount, call drive.mount(\"/content/drive\", force_remount=True).\n"
          ]
        }
      ]
    },
    {
      "cell_type": "code",
      "execution_count": null,
      "id": "8cba2586",
      "metadata": {
        "id": "8cba2586"
      },
      "outputs": [],
      "source": [
        "#Importamos la libreria de SparkSession\n",
        "from pyspark.sql import SparkSession"
      ]
    },
    {
      "cell_type": "markdown",
      "id": "6f8adb3d",
      "metadata": {
        "id": "6f8adb3d"
      },
      "source": [
        "# Paso 1: Crear un SparkSession"
      ]
    },
    {
      "cell_type": "code",
      "execution_count": null,
      "id": "83b17772",
      "metadata": {
        "id": "83b17772"
      },
      "outputs": [],
      "source": [
        "#Crear una SparkSession\n",
        "spark = SparkSession.builder.appName(\"Datacamp Pyspark Tutorial\").config(\"spark.memory.offHeap.enabled\",\"true\").config(\"spark.memory.offHeap.size\",\"10g\").getOrCreate()"
      ]
    },
    {
      "cell_type": "markdown",
      "id": "4e9f2a40",
      "metadata": {
        "id": "4e9f2a40"
      },
      "source": [
        "# Paso 2: Crear el marco de datos"
      ]
    },
    {
      "cell_type": "code",
      "execution_count": null,
      "id": "75bfb9a9",
      "metadata": {
        "id": "75bfb9a9"
      },
      "outputs": [],
      "source": [
        "#crear el marco de datos\n",
        "df = spark.read.csv('/content/drive/My Drive/Data Engineer Academy/Modulo 4 - Colab/datacamp_ecommerce.csv',header=True,escape=\"\\\"\")"
      ]
    },
    {
      "cell_type": "code",
      "execution_count": null,
      "id": "89f9a328",
      "metadata": {
        "colab": {
          "base_uri": "https://localhost:8080/"
        },
        "id": "89f9a328",
        "outputId": "193d7f93-b56f-4e68-f982-ecf7fb4e43d5"
      },
      "outputs": [
        {
          "output_type": "stream",
          "name": "stdout",
          "text": [
            "+---------+---------+-----------------------------------+--------+------------+---------+----------+--------------+\n",
            "|InvoiceNo|StockCode|Description                        |Quantity|InvoiceDate |UnitPrice|CustomerID|Country       |\n",
            "+---------+---------+-----------------------------------+--------+------------+---------+----------+--------------+\n",
            "|536365   |85123A   |WHITE HANGING HEART T-LIGHT HOLDER |6       |12/1/10 8:26|2.55     |17850     |United Kingdom|\n",
            "|536365   |71053    |WHITE METAL LANTERN                |6       |12/1/10 8:26|3.39     |17850     |United Kingdom|\n",
            "|536365   |84406B   |CREAM CUPID HEARTS COAT HANGER     |8       |12/1/10 8:26|2.75     |17850     |United Kingdom|\n",
            "|536365   |84029G   |KNITTED UNION FLAG HOT WATER BOTTLE|6       |12/1/10 8:26|3.39     |17850     |United Kingdom|\n",
            "|536365   |84029E   |RED WOOLLY HOTTIE WHITE HEART.     |6       |12/1/10 8:26|3.39     |17850     |United Kingdom|\n",
            "+---------+---------+-----------------------------------+--------+------------+---------+----------+--------------+\n",
            "only showing top 5 rows\n",
            "\n"
          ]
        }
      ],
      "source": [
        "#Echemos un vistazo al encabezado del dataframe usando la función show():\n",
        "df.show(5,0)"
      ]
    },
    {
      "cell_type": "markdown",
      "id": "b82ad2d1",
      "metadata": {
        "id": "b82ad2d1"
      },
      "source": [
        "# Paso 3: Analisis de datos exploratorio"
      ]
    },
    {
      "cell_type": "code",
      "execution_count": null,
      "id": "741aba6b",
      "metadata": {
        "colab": {
          "base_uri": "https://localhost:8080/"
        },
        "id": "741aba6b",
        "outputId": "d64fa585-5336-4354-c61a-220f2ec07453"
      },
      "outputs": [
        {
          "output_type": "execute_result",
          "data": {
            "text/plain": [
              "2500"
            ]
          },
          "metadata": {},
          "execution_count": 18
        }
      ],
      "source": [
        "#Vamos a contar el numero de filas en el marco de datos\n",
        "df.count() #Answer: 2,500"
      ]
    },
    {
      "cell_type": "code",
      "execution_count": null,
      "id": "2a0d0eef",
      "metadata": {
        "colab": {
          "base_uri": "https://localhost:8080/"
        },
        "id": "2a0d0eef",
        "outputId": "b5ccd90b-9c03-490d-9b17-d25c0eea5258"
      },
      "outputs": [
        {
          "output_type": "execute_result",
          "data": {
            "text/plain": [
              "95"
            ]
          },
          "metadata": {},
          "execution_count": 19
        }
      ],
      "source": [
        "#Cuando clientes unicos estan presentes en el marco de datos?\n",
        "df.select('CustomerID').distinct().count() #Answer: 95"
      ]
    },
    {
      "cell_type": "code",
      "execution_count": null,
      "id": "567c5d7b",
      "metadata": {
        "colab": {
          "base_uri": "https://localhost:8080/"
        },
        "id": "567c5d7b",
        "outputId": "7f067cdf-4fee-4e99-8632-95e5244c6cda"
      },
      "outputs": [
        {
          "output_type": "stream",
          "name": "stdout",
          "text": [
            "+--------------+-------------+\n",
            "|       Country|country_count|\n",
            "+--------------+-------------+\n",
            "|       Germany|            2|\n",
            "|        France|            1|\n",
            "|          EIRE|            1|\n",
            "|        Norway|            1|\n",
            "|     Australia|            1|\n",
            "|United Kingdom|           88|\n",
            "|   Netherlands|            1|\n",
            "+--------------+-------------+\n",
            "\n"
          ]
        }
      ],
      "source": [
        "#¿De que pais provienen la mayoria de las compras?\n",
        "#Para encontrar el pais desde el que se realizan la mayoria de las compras, necesitamos usar la clausula groupBy() en PySpark\n",
        "from pyspark.sql.functions import *\n",
        "from pyspark.sql.types import *\n",
        "\n",
        "df.groupBy('Country').agg(countDistinct('CustomerID').alias('country_count')).show()"
      ]
    },
    {
      "cell_type": "code",
      "execution_count": null,
      "id": "66139196",
      "metadata": {
        "colab": {
          "base_uri": "https://localhost:8080/"
        },
        "id": "66139196",
        "outputId": "21ee6b31-c5b7-42bc-92c0-44ef0908f389"
      },
      "outputs": [
        {
          "output_type": "stream",
          "name": "stdout",
          "text": [
            "+--------------+-------------+\n",
            "|       Country|country_count|\n",
            "+--------------+-------------+\n",
            "|United Kingdom|           88|\n",
            "|       Germany|            2|\n",
            "|        France|            1|\n",
            "|          EIRE|            1|\n",
            "|     Australia|            1|\n",
            "|        Norway|            1|\n",
            "|   Netherlands|            1|\n",
            "+--------------+-------------+\n",
            "\n"
          ]
        }
      ],
      "source": [
        "#Tenga en cuenta que los datos de la tabla anterior no se presentan en el orden de las compras. \n",
        "#Para ordenar esta tabla, podemos incluir la cláusula orderBy():\n",
        "df.groupBy('Country').agg(countDistinct('CustomerID').alias('country_count')).orderBy(desc('country_count')).show()"
      ]
    },
    {
      "cell_type": "code",
      "execution_count": null,
      "id": "90ccc812",
      "metadata": {
        "colab": {
          "base_uri": "https://localhost:8080/"
        },
        "id": "90ccc812",
        "outputId": "36c5eec7-d41c-49ed-c574-275dd3a3b55a"
      },
      "outputs": [
        {
          "output_type": "stream",
          "name": "stdout",
          "text": [
            "+-------------------+\n",
            "|          max(date)|\n",
            "+-------------------+\n",
            "|2012-01-10 17:06:00|\n",
            "+-------------------+\n",
            "\n"
          ]
        }
      ],
      "source": [
        "#¿Cuando fue la compra más reciente realizada por un cliente en la plataforma de comercio electronico?\n",
        "#Para saber cuándo se realizó la última compra en la plataforma, debemos convertir la columna \"Fecha de la factura\" \n",
        "#a un formato de marca de tiempo y usar la función max() en Pyspark:\n",
        "\n",
        "spark.sql(\"set spark.sql.legacy.timeParserPolicy=LEGACY\")\n",
        "df = df.withColumn('date',to_timestamp(\"InvoiceDate\", 'yy/MM/dd HH:mm'))\n",
        "df.select(max(\"date\")).show()"
      ]
    },
    {
      "cell_type": "code",
      "execution_count": null,
      "id": "8821aa03",
      "metadata": {
        "colab": {
          "base_uri": "https://localhost:8080/"
        },
        "id": "8821aa03",
        "outputId": "8fddb802-df05-4d49-9f4e-2748ed64d89d"
      },
      "outputs": [
        {
          "output_type": "stream",
          "name": "stdout",
          "text": [
            "+-------------------+\n",
            "|          min(date)|\n",
            "+-------------------+\n",
            "|2012-01-10 08:26:00|\n",
            "+-------------------+\n",
            "\n"
          ]
        }
      ],
      "source": [
        "#¿Cuando fue la primera compra realizada por un cliente en la plataforma de comercio electronico?\n",
        "#la funcion min() se puede usar para encontrar la fecha y hora de compra mas temprana:\n",
        "\n",
        "df.select(min(\"date\")).show()"
      ]
    },
    {
      "cell_type": "markdown",
      "id": "5698bccf",
      "metadata": {
        "id": "5698bccf"
      },
      "source": [
        "Tenga en cuenta que las compras más recientes y más antiguas se realizaron el mismo día con solo unas pocas horas de diferencia. Esto significa que el conjunto de datos que descargamos contiene información de solo compras realizadas en un solo día."
      ]
    },
    {
      "cell_type": "markdown",
      "id": "db2761c3",
      "metadata": {
        "id": "db2761c3"
      },
      "source": [
        "# Paso 4: procesamiento de datos"
      ]
    },
    {
      "cell_type": "code",
      "execution_count": null,
      "id": "fa9d52fd",
      "metadata": {
        "scrolled": true,
        "colab": {
          "base_uri": "https://localhost:8080/"
        },
        "id": "fa9d52fd",
        "outputId": "18400182-a85a-4409-9de8-0d091fb5236f"
      },
      "outputs": [
        {
          "output_type": "stream",
          "name": "stdout",
          "text": [
            "+---------+---------+-----------------------------------+--------+------------+---------+----------+--------------+-------------------+\n",
            "|InvoiceNo|StockCode|Description                        |Quantity|InvoiceDate |UnitPrice|CustomerID|Country       |date               |\n",
            "+---------+---------+-----------------------------------+--------+------------+---------+----------+--------------+-------------------+\n",
            "|536365   |85123A   |WHITE HANGING HEART T-LIGHT HOLDER |6       |12/1/10 8:26|2.55     |17850     |United Kingdom|2012-01-10 08:26:00|\n",
            "|536365   |71053    |WHITE METAL LANTERN                |6       |12/1/10 8:26|3.39     |17850     |United Kingdom|2012-01-10 08:26:00|\n",
            "|536365   |84406B   |CREAM CUPID HEARTS COAT HANGER     |8       |12/1/10 8:26|2.75     |17850     |United Kingdom|2012-01-10 08:26:00|\n",
            "|536365   |84029G   |KNITTED UNION FLAG HOT WATER BOTTLE|6       |12/1/10 8:26|3.39     |17850     |United Kingdom|2012-01-10 08:26:00|\n",
            "|536365   |84029E   |RED WOOLLY HOTTIE WHITE HEART.     |6       |12/1/10 8:26|3.39     |17850     |United Kingdom|2012-01-10 08:26:00|\n",
            "+---------+---------+-----------------------------------+--------+------------+---------+----------+--------------+-------------------+\n",
            "only showing top 5 rows\n",
            "\n"
          ]
        }
      ],
      "source": [
        "#Echemos un vistazo al encabezado del marco de datos una vez más para comprender cómo se realizará el preprocesamiento:\n",
        "\n",
        "df.show(5,0)"
      ]
    },
    {
      "cell_type": "markdown",
      "id": "265b84dc",
      "metadata": {
        "id": "265b84dc"
      },
      "source": [
        "A partir del conjunto de datos anterior, necesitamos crear múltiples segmentos de clientes basados ​​en el comportamiento de compra de cada usuario. \n",
        "\n",
        "Las variables en este conjunto de datos están en un formato que no se puede ingerir fácilmente en el modelo de segmentación de clientes. Estas características individualmente no nos dicen mucho sobre el comportamiento de compra del cliente.\n",
        "\n",
        "Debido a esto, utilizaremos las variables existentes para derivar tres nuevas características informativas: actualidad, frecuencia y valor monetario (RFM).\n",
        "\n",
        "**RFM** se usa comúnmente en marketing para evaluar el valor de un cliente en función de su:\n",
        "\n",
        "    1. Actualidad: ¿Qué tan recientemente ha realizado una compra cada cliente?\n",
        "    2. Frecuencia: ¿Con qué frecuencia han comprado algo?\n",
        "    3. Valor Monetario: ¿Cuánto dinero gastan en promedio al realizar compras?\n",
        "Ahora preprocesaremos el marco de datos para crear las variables anteriores."
      ]
    },
    {
      "cell_type": "markdown",
      "id": "49cc4ab4",
      "metadata": {
        "id": "49cc4ab4"
      },
      "source": [
        "## Recency"
      ]
    },
    {
      "cell_type": "code",
      "execution_count": null,
      "id": "d11f66a3",
      "metadata": {
        "id": "d11f66a3"
      },
      "outputs": [],
      "source": [
        "#Primero, calculemos el valor de la actualidad: la última fecha y hora en que se realizó una compra \n",
        "#en la plataforma. Esto se puede lograr en dos pasos:\n",
        "\n",
        "# ASIGNAR UNA PUNTUACION DE ACTUALIDAD A CADA CLIENTE\n",
        "\n",
        "# Restaremos cada fecha en el marco de datos desde la fecha más antigua. \n",
        "# Esto nos dirá qué tan recientemente se vio un cliente en el marco de datos. \n",
        "# Un valor de 0 indica la antigüedad más baja, ya que se asignará a la persona \n",
        "# que fue vista realizando una compra en la fecha más temprana.\n",
        "\n",
        "df = df.withColumn(\"from_date\", lit(\"12/1/10 08:26\"))\n",
        "df = df.withColumn('from_date',to_timestamp(\"from_date\", 'yy/MM/dd HH:mm'))\n",
        "\n",
        "df2=df.withColumn('from_date',to_timestamp(col('from_date'))).withColumn('recency',col(\"date\").cast(\"long\") - col('from_date').cast(\"long\"))"
      ]
    },
    {
      "cell_type": "code",
      "execution_count": null,
      "id": "0ec4cab2",
      "metadata": {
        "id": "0ec4cab2"
      },
      "outputs": [],
      "source": [
        "# SELECCIONE LA COMPRA MAS RECIENTE\n",
        "\n",
        "# Un cliente puede realizar varias compras en diferentes momentos. Necesitamos seleccionar\n",
        "# solo la última vez que fueron vistos comprando un producto, ya que esto es indicativo de \n",
        "# cuándo se realizó la compra más reciente: \n",
        "\n",
        "df2 = df2.join(df2.groupBy('CustomerID').agg(max('recency').alias('recency')),on='recency',how='leftsemi')"
      ]
    },
    {
      "cell_type": "code",
      "execution_count": null,
      "id": "9e1849d6",
      "metadata": {
        "colab": {
          "base_uri": "https://localhost:8080/"
        },
        "id": "9e1849d6",
        "outputId": "02ee35fa-92af-4d99-f995-7f08c2933b54"
      },
      "outputs": [
        {
          "output_type": "stream",
          "name": "stdout",
          "text": [
            "+-------+---------+---------+-------------------------------+--------+------------+---------+----------+--------------+-------------------+-------------------+\n",
            "|recency|InvoiceNo|StockCode|Description                    |Quantity|InvoiceDate |UnitPrice|CustomerID|Country       |date               |from_date          |\n",
            "+-------+---------+---------+-------------------------------+--------+------------+---------+----------+--------------+-------------------+-------------------+\n",
            "|540    |536369   |21756    |BATH BUILDING BLOCK WORD       |3       |12/1/10 8:35|5.95     |13047     |United Kingdom|2012-01-10 08:35:00|2012-01-10 08:26:00|\n",
            "|1140   |536370   |22728    |ALARM CLOCK BAKELIKE PINK      |24      |12/1/10 8:45|3.75     |12583     |France        |2012-01-10 08:45:00|2012-01-10 08:26:00|\n",
            "|1140   |536370   |22727    |ALARM CLOCK BAKELIKE RED       |24      |12/1/10 8:45|3.75     |12583     |France        |2012-01-10 08:45:00|2012-01-10 08:26:00|\n",
            "|1140   |536370   |22726    |ALARM CLOCK BAKELIKE GREEN     |12      |12/1/10 8:45|3.75     |12583     |France        |2012-01-10 08:45:00|2012-01-10 08:26:00|\n",
            "|1140   |536370   |21724    |PANDA AND BUNNIES STICKER SHEET|12      |12/1/10 8:45|0.85     |12583     |France        |2012-01-10 08:45:00|2012-01-10 08:26:00|\n",
            "+-------+---------+---------+-------------------------------+--------+------------+---------+----------+--------------+-------------------+-------------------+\n",
            "only showing top 5 rows\n",
            "\n"
          ]
        }
      ],
      "source": [
        "df2.show(5,0)"
      ]
    },
    {
      "cell_type": "code",
      "execution_count": null,
      "id": "343a1331",
      "metadata": {
        "colab": {
          "base_uri": "https://localhost:8080/"
        },
        "id": "343a1331",
        "outputId": "53fea119-0fed-4ba4-c812-2e7b1c8128dd"
      },
      "outputs": [
        {
          "output_type": "stream",
          "name": "stdout",
          "text": [
            "root\n",
            " |-- recency: long (nullable = true)\n",
            " |-- InvoiceNo: string (nullable = true)\n",
            " |-- StockCode: string (nullable = true)\n",
            " |-- Description: string (nullable = true)\n",
            " |-- Quantity: string (nullable = true)\n",
            " |-- InvoiceDate: string (nullable = true)\n",
            " |-- UnitPrice: string (nullable = true)\n",
            " |-- CustomerID: string (nullable = true)\n",
            " |-- Country: string (nullable = true)\n",
            " |-- date: timestamp (nullable = true)\n",
            " |-- from_date: timestamp (nullable = true)\n",
            "\n"
          ]
        }
      ],
      "source": [
        "# Una forma más fácil de ver todas las variables presentes en un marco de datos de PySpark \n",
        "# es usar su función printSchema(). Este es el equivalente de la función info() en Pandas:\n",
        "\n",
        "df2.printSchema()"
      ]
    },
    {
      "cell_type": "markdown",
      "id": "fb0602f9",
      "metadata": {
        "id": "fb0602f9"
      },
      "source": [
        "## Frequency"
      ]
    },
    {
      "cell_type": "markdown",
      "id": "a68eccb2",
      "metadata": {
        "id": "a68eccb2"
      },
      "source": [
        "Ahora calcularemos el valor de la frecuencia: con qué frecuencia un cliente compra algo en la plataforma. Para hacer esto, solo necesitamos agrupar por ID de cada cliente y contar la cantidad de articulos que compraron:"
      ]
    },
    {
      "cell_type": "code",
      "execution_count": null,
      "id": "acd29620",
      "metadata": {
        "id": "acd29620"
      },
      "outputs": [],
      "source": [
        "df_freq = df2.groupBy('CustomerID').agg(count('InvoiceDate').alias('frequency'))"
      ]
    },
    {
      "cell_type": "code",
      "execution_count": null,
      "id": "eb2388dc",
      "metadata": {
        "colab": {
          "base_uri": "https://localhost:8080/"
        },
        "id": "eb2388dc",
        "outputId": "9fd4809d-a47c-4ced-d62b-8cf257d0fcde"
      },
      "outputs": [
        {
          "output_type": "stream",
          "name": "stdout",
          "text": [
            "+----------+---------+\n",
            "|CustomerID|frequency|\n",
            "+----------+---------+\n",
            "|16250     |14       |\n",
            "|15100     |1        |\n",
            "|13065     |14       |\n",
            "|12838     |59       |\n",
            "|15350     |5        |\n",
            "+----------+---------+\n",
            "only showing top 5 rows\n",
            "\n"
          ]
        }
      ],
      "source": [
        "df_freq.show(5,0)"
      ]
    },
    {
      "cell_type": "markdown",
      "id": "321a0761",
      "metadata": {
        "id": "321a0761"
      },
      "source": [
        "Hay un valor de frecuencia adjunto a cada cliente en el marco de datos. Este nuevo marco de datos solo tiene dos columnas, y debemos unirlo con el anterior:"
      ]
    },
    {
      "cell_type": "code",
      "execution_count": null,
      "id": "3aa24b33",
      "metadata": {
        "id": "3aa24b33"
      },
      "outputs": [],
      "source": [
        "df3 = df2.join(df_freq,on='CustomerID',how='inner')"
      ]
    },
    {
      "cell_type": "code",
      "execution_count": null,
      "id": "f066ba83",
      "metadata": {
        "colab": {
          "base_uri": "https://localhost:8080/"
        },
        "id": "f066ba83",
        "outputId": "363053d3-662f-4d00-9cfd-99b294985dd8"
      },
      "outputs": [
        {
          "output_type": "stream",
          "name": "stdout",
          "text": [
            "root\n",
            " |-- CustomerID: string (nullable = true)\n",
            " |-- recency: long (nullable = true)\n",
            " |-- InvoiceNo: string (nullable = true)\n",
            " |-- StockCode: string (nullable = true)\n",
            " |-- Description: string (nullable = true)\n",
            " |-- Quantity: string (nullable = true)\n",
            " |-- InvoiceDate: string (nullable = true)\n",
            " |-- UnitPrice: string (nullable = true)\n",
            " |-- Country: string (nullable = true)\n",
            " |-- date: timestamp (nullable = true)\n",
            " |-- from_date: timestamp (nullable = true)\n",
            " |-- frequency: long (nullable = false)\n",
            "\n"
          ]
        }
      ],
      "source": [
        "df3.printSchema()"
      ]
    },
    {
      "cell_type": "markdown",
      "id": "df5b88a6",
      "metadata": {
        "id": "df5b88a6"
      },
      "source": [
        "## Monetary Value"
      ]
    },
    {
      "cell_type": "markdown",
      "id": "90a2b015",
      "metadata": {
        "id": "90a2b015"
      },
      "source": [
        "Finalmente, calculemos el valor monetario: la cantidad totalgastada por cada cliente en el marco de datos. Hay dos pasos para lograr esto:"
      ]
    },
    {
      "cell_type": "code",
      "execution_count": null,
      "id": "6cb9ff26",
      "metadata": {
        "colab": {
          "base_uri": "https://localhost:8080/"
        },
        "id": "6cb9ff26",
        "outputId": "800b5e0c-7a71-452b-f31e-6ca62b201504"
      },
      "outputs": [
        {
          "output_type": "stream",
          "name": "stdout",
          "text": [
            "+----------+--------+---------+\n",
            "|CustomerID|Quantity|UnitPrice|\n",
            "+----------+--------+---------+\n",
            "|17850     |6       |2.55     |\n",
            "|17850     |6       |3.39     |\n",
            "|17850     |8       |2.75     |\n",
            "|17850     |6       |3.39     |\n",
            "|17850     |6       |3.39     |\n",
            "+----------+--------+---------+\n",
            "only showing top 5 rows\n",
            "\n"
          ]
        }
      ],
      "source": [
        "#Observamos los siguentes 3 elementos que nos pueden ayudar con esto:\n",
        "df = df.select(['CustomerID','Quantity','UnitPrice'])\n",
        "df.show(5,0)"
      ]
    },
    {
      "cell_type": "code",
      "execution_count": null,
      "id": "cb40abee",
      "metadata": {
        "id": "cb40abee"
      },
      "outputs": [],
      "source": [
        "# ENCONTRAR EL MONTO TOTAL GASTADO EN CADA COMPRA:\n",
        "\n",
        "# Cada ID de cliente viene con variables llamadas \"Cantidad\" y \"Precio unitario\" para una sola compra:\n",
        "\n",
        "# Para obtener el monto total, debemos multiplicar \"Cantidad\" por \"Precio unitario\"\n",
        "\n",
        "m_val = df3.withColumn('TotalAmount',col(\"Quantity\") * col(\"UnitPrice\"))"
      ]
    },
    {
      "cell_type": "code",
      "execution_count": null,
      "id": "1166b3e0",
      "metadata": {
        "id": "1166b3e0"
      },
      "outputs": [],
      "source": [
        "# ENCUENTRE EL MONTO TOTAL GASTADO POR CADA CLIENTE:\n",
        "\n",
        "# Para encontrar el monto total gastado por cada cliente en general, solo necesitamos agrupar\n",
        "# por la columna CustomerID y sumar el monto total gastado:\n",
        "\n",
        "m_val = m_val.groupBy('CustomerID').agg(sum('TotalAmount').alias('monetary_value'))"
      ]
    },
    {
      "cell_type": "code",
      "execution_count": null,
      "id": "7d2c7ce2",
      "metadata": {
        "id": "7d2c7ce2"
      },
      "outputs": [],
      "source": [
        "# Ahora, combinamos este marco de trabajo con todas las demas variables:\n",
        "\n",
        "finaldf = m_val.join(df3,on='CustomerID',how='inner')"
      ]
    },
    {
      "cell_type": "markdown",
      "id": "671c397d",
      "metadata": {
        "id": "671c397d"
      },
      "source": [
        "Ahora que hemos creado todas las variables necesarias para construir el modelo, ejecute las siguientes líneas de código para seleccionar solo las columnas requeridas y suelte las filas duplicadas del marco de datos:"
      ]
    },
    {
      "cell_type": "code",
      "execution_count": null,
      "id": "dcad3e6f",
      "metadata": {
        "id": "dcad3e6f"
      },
      "outputs": [],
      "source": [
        "finaldf = finaldf.select(['recency','frequency','monetary_value','CustomerID']).distinct()"
      ]
    },
    {
      "cell_type": "code",
      "execution_count": null,
      "id": "3cb0e9d9",
      "metadata": {
        "colab": {
          "base_uri": "https://localhost:8080/"
        },
        "id": "3cb0e9d9",
        "outputId": "a446d6d0-bf42-4e06-a959-f27328afe83a"
      },
      "outputs": [
        {
          "output_type": "stream",
          "name": "stdout",
          "text": [
            "+-------+---------+------------------+----------+\n",
            "|recency|frequency|monetary_value    |CustomerID|\n",
            "+-------+---------+------------------+----------+\n",
            "|5580   |14       |226.14            |16250     |\n",
            "|2580   |1        |350.4             |15100     |\n",
            "|30360  |14       |205.85999999999999|13065     |\n",
            "|12660  |59       |390.78999999999985|12838     |\n",
            "|18420  |5        |115.65            |15350     |\n",
            "+-------+---------+------------------+----------+\n",
            "only showing top 5 rows\n",
            "\n"
          ]
        }
      ],
      "source": [
        "finaldf.show(5,0)"
      ]
    },
    {
      "cell_type": "markdown",
      "id": "5c038f25",
      "metadata": {
        "id": "5c038f25"
      },
      "source": [
        "## Standardization"
      ]
    },
    {
      "cell_type": "markdown",
      "id": "5eba3034",
      "metadata": {
        "id": "5eba3034"
      },
      "source": [
        "Antes de construir el modelo de segmentación de clientes, estandaricemos el marco de datos para asegurarnos de que todas las variables estén en la misma escala:"
      ]
    },
    {
      "cell_type": "code",
      "execution_count": null,
      "id": "04a75c7e",
      "metadata": {
        "id": "04a75c7e"
      },
      "outputs": [],
      "source": [
        "from pyspark.ml.feature import VectorAssembler\n",
        "from pyspark.ml.feature import StandardScaler\n",
        "\n",
        "assemble=VectorAssembler(inputCols=[\n",
        "    'recency','frequency','monetary_value'\n",
        "], outputCol='features')\n",
        "\n",
        "assembled_data=assemble.transform(finaldf)\n",
        "\n",
        "scale=StandardScaler(inputCol='features',outputCol='standardized')\n",
        "data_scale=scale.fit(assembled_data)\n",
        "data_scale_output=data_scale.transform(assembled_data)"
      ]
    },
    {
      "cell_type": "markdown",
      "id": "ae99cab5",
      "metadata": {
        "id": "ae99cab5"
      },
      "source": [
        "Ejecute las siguientes líneas de código para ver cómo se ve el vector de características estandarizado:"
      ]
    },
    {
      "cell_type": "code",
      "execution_count": null,
      "id": "b0e3e700",
      "metadata": {
        "colab": {
          "base_uri": "https://localhost:8080/"
        },
        "id": "b0e3e700",
        "outputId": "0f54fe89-cbd9-42b3-e3d9-ee83d32efa93"
      },
      "outputs": [
        {
          "output_type": "stream",
          "name": "stdout",
          "text": [
            "+-------------------------------------------------------------+\n",
            "|standardized                                                 |\n",
            "+-------------------------------------------------------------+\n",
            "|[0.6860448646904731,0.6848507976304103,0.45968090513788246]  |\n",
            "|[0.31720353958806824,0.048917914116457885,0.7122675738936677]|\n",
            "+-------------------------------------------------------------+\n",
            "only showing top 2 rows\n",
            "\n"
          ]
        }
      ],
      "source": [
        "data_scale_output.select('standardized').show(2,truncate=False)"
      ]
    },
    {
      "cell_type": "markdown",
      "id": "bce436d8",
      "metadata": {
        "id": "bce436d8"
      },
      "source": [
        "Estas son las características escaladas que se incorporarán al algoritmo de agrupamiento."
      ]
    },
    {
      "cell_type": "markdown",
      "id": "6678d35a",
      "metadata": {
        "id": "6678d35a"
      },
      "source": [
        "# Paso 5: Construccion del modelo de aprendizaje automatico"
      ]
    },
    {
      "cell_type": "markdown",
      "id": "debbbf19",
      "metadata": {
        "id": "debbbf19"
      },
      "source": [
        "Ahora que hemos completado todo el análisis y la preparación de datos, construyamos el modelo de agrupación en clústeres de **K-Means**.\n",
        "\n",
        "**El algoritmo se creará utilizando la API de aprendizaje automático de PySpark .**"
      ]
    },
    {
      "cell_type": "code",
      "execution_count": null,
      "id": "7d20f588",
      "metadata": {
        "id": "7d20f588"
      },
      "outputs": [],
      "source": [
        "# ENCONTRAR EL NUMERO DE CLUSTERES A UTILIZAR\n",
        "\n",
        "# Al construir un modelo de agrupación en clústeres de K-Means, primero debemos determinar la cantidad \n",
        "# de clústeres o grupos que queremos que devuelva el algoritmo. Si nos decidimos por tres clústeres, \n",
        "# por ejemplo, tendremos tres segmentos de clientes.\n",
        "\n",
        "#La técnica más popular utilizada para decidir cuántos conglomerados usar en K-Means se denomina \"método del codo\".\n",
        "\n",
        "#Esto se hace simplemente ejecutando el algoritmo K-Means para una amplia gama de conglomerados y \n",
        "# visualizando los resultados del modelo para cada conglomerado. El gráfico tendrá un punto de inflexión \n",
        "# que se parece a un codo, y solo elegimos la cantidad de grupos en este punto.\n",
        "\n",
        "#--------------------------------------------\n",
        "# Ejecutemos las siguientes líneas de código para construir un algoritmo de agrupación en clústeres de \n",
        "# K-Means de 2 a 10 clústeres:\n",
        "\n",
        "from pyspark.ml.clustering import KMeans\n",
        "from pyspark.ml.evaluation import ClusteringEvaluator\n",
        "import numpy as np\n",
        "\n",
        "cost = np.zeros(10)\n",
        "\n",
        "evaluator = ClusteringEvaluator(predictionCol='prediction', featuresCol='standardized',metricName='silhouette', distanceMeasure='squaredEuclidean')\n",
        "\n",
        "for i in range(2,10):\n",
        "    KMeans_algo=KMeans(featuresCol='standardized', k=i)\n",
        "    KMeans_fit=KMeans_algo.fit(data_scale_output)\n",
        "    output=KMeans_fit.transform(data_scale_output)\n",
        "    cost[i] = KMeans_fit.summary.trainingCost"
      ]
    },
    {
      "cell_type": "markdown",
      "id": "fdb83cbf",
      "metadata": {
        "id": "fdb83cbf"
      },
      "source": [
        "Con los códigos anteriores, hemos construido y evaluado con éxito un modelo de agrupación en clústeres de K-Means con 2 a 10 clústeres. Los resultados se han colocado en una matriz y ahora se pueden visualizar en un gráfico de líneas:"
      ]
    },
    {
      "cell_type": "code",
      "execution_count": null,
      "id": "9ed10591",
      "metadata": {
        "colab": {
          "base_uri": "https://localhost:8080/",
          "height": 295
        },
        "id": "9ed10591",
        "outputId": "ed074b56-d720-4b9c-95b3-e7ceb3238d02"
      },
      "outputs": [
        {
          "output_type": "display_data",
          "data": {
            "text/plain": [
              "<Figure size 432x288 with 1 Axes>"
            ],
            "image/png": "[encoded data removed]"
          },
          "metadata": {
            "needs_background": "light"
          }
        }
      ],
      "source": [
        "import pandas as pd\n",
        "import pylab as pl\n",
        "df_cost = pd.DataFrame(cost[2:])\n",
        "df_cost.columns = [\"cost\"]\n",
        "new_col = range(2,10)\n",
        "df_cost.insert(0, 'cluster', new_col)\n",
        "pl.plot(df_cost.cluster, df_cost.cost)\n",
        "pl.xlabel('Number of Clusters')\n",
        "pl.ylabel('Score')\n",
        "pl.title('Elbow Curve')\n",
        "pl.show()"
      ]
    },
    {
      "cell_type": "code",
      "execution_count": null,
      "id": "a3b03cba",
      "metadata": {
        "id": "a3b03cba"
      },
      "outputs": [],
      "source": [
        "# CONSTRUYENDO EL MODELO DE AGRUPAMIENTO DE K-MEANS\n",
        "\n",
        "# En el diagrama de arriba, podemos ver que hay un punto de inflexión que parece\n",
        "# un codo en cuatro. Debido a esto, procederemos a construir el algoritmo K-Means con cuatro clusters:\n",
        "\n",
        "KMeans_algo=KMeans(featuresCol='standardized', k=4)\n",
        "KMeans_fit=KMeans_algo.fit(data_scale_output)"
      ]
    },
    {
      "cell_type": "code",
      "execution_count": null,
      "id": "645cead9",
      "metadata": {
        "colab": {
          "base_uri": "https://localhost:8080/"
        },
        "id": "645cead9",
        "outputId": "d2ed8dbc-0d0c-4498-ef99-669fcfffc884"
      },
      "outputs": [
        {
          "output_type": "stream",
          "name": "stdout",
          "text": [
            "+-------+---------+------------------+----------+---------------------------------+-------------------------------------------------------------+----------+\n",
            "|recency|frequency|monetary_value    |CustomerID|features                         |standardized                                                 |prediction|\n",
            "+-------+---------+------------------+----------+---------------------------------+-------------------------------------------------------------+----------+\n",
            "|5580   |14       |226.14            |16250     |[5580.0,14.0,226.14]             |[0.6860448646904731,0.6848507976304103,0.45968090513788246]  |0         |\n",
            "|2580   |1        |350.4             |15100     |[2580.0,1.0,350.4]               |[0.31720353958806824,0.048917914116457885,0.7122675738936677]|0         |\n",
            "|30360  |14       |205.85999999999999|13065     |[30360.0,14.0,205.85999999999999]|[3.732674210036338,0.6848507976304103,0.41845719966252976]   |3         |\n",
            "|12660  |59       |390.78999999999985|12838     |[12660.0,59.0,390.78999999999985]|[1.5565103919321488,2.8861569328710153,0.7943694212383171]   |0         |\n",
            "|18420  |5        |115.65            |15350     |[18420.0,5.0,115.65]             |[2.264685736128766,0.24458957058228942,0.2350848884726104]   |3         |\n",
            "+-------+---------+------------------+----------+---------------------------------+-------------------------------------------------------------+----------+\n",
            "only showing top 5 rows\n",
            "\n"
          ]
        }
      ],
      "source": [
        "# HACER PREDICCIONES\n",
        "\n",
        "# Usemos el modelo que creamos para asignar clústeres a cada cliente en el conjunto de datos:\n",
        "\n",
        "preds=KMeans_fit.transform(data_scale_output)\n",
        "\n",
        "preds.show(5,0)"
      ]
    },
    {
      "cell_type": "markdown",
      "id": "62e8f0b7",
      "metadata": {
        "id": "62e8f0b7"
      },
      "source": [
        "# Paso 6: Analisis de conglomerados"
      ]
    },
    {
      "cell_type": "markdown",
      "id": "ab636ade",
      "metadata": {
        "id": "ab636ade"
      },
      "source": [
        "El paso final de todo este tutorial es analizar los segmentos de clientes que acabamos de crear.\n",
        "\n",
        "Ejecute las siguientes líneas de código para visualizar la actualidad, la frecuencia y el valor monetario de cada ID de cliente en el marco de datos:"
      ]
    },
    {
      "cell_type": "code",
      "execution_count": null,
      "id": "71ac0396",
      "metadata": {
        "scrolled": false,
        "colab": {
          "base_uri": "https://localhost:8080/",
          "height": 804
        },
        "id": "71ac0396",
        "outputId": "d4b9b8f0-8d31-47f8-8f50-5e17282f02ed"
      },
      "outputs": [
        {
          "output_type": "display_data",
          "data": {
            "text/plain": [
              "<Figure size 432x288 with 1 Axes>"
            ],
            "image/png": "[encoded data removed]"
          },
          "metadata": {
            "needs_background": "light"
          }
        },
        {
          "output_type": "display_data",
          "data": {
            "text/plain": [
              "<Figure size 432x288 with 1 Axes>"
            ],
            "image/png": "[encoded data removed]"
          },
          "metadata": {
            "needs_background": "light"
          }
        },
        {
          "output_type": "display_data",
          "data": {
            "text/plain": [
              "<Figure size 432x288 with 1 Axes>"
            ],
            "image/png": "[encoded data removed]"
          },
          "metadata": {
            "needs_background": "light"
          }
        }
      ],
      "source": [
        "import matplotlib.pyplot as plt\n",
        "import seaborn as sns\n",
        "\n",
        "df_viz = preds.select('recency','frequency','monetary_value','prediction')\n",
        "df_viz = df_viz.toPandas()\n",
        "avg_df = df_viz.groupby(['prediction'], as_index=False).mean()\n",
        "\n",
        "list1 = ['recency','frequency','monetary_value']\n",
        "\n",
        "for i in list1:\n",
        "    sns.barplot(x='prediction',y=str(i),data=avg_df)\n",
        "    plt.show()"
      ]
    },
    {
      "cell_type": "markdown",
      "id": "204225bd",
      "metadata": {
        "id": "204225bd"
      },
      "source": [
        "# Conclusiones\n",
        "### Estas conclusiones estan sujetas al resultado del algoritmo de aprendizaje automatico, podrian cambiar si se ejecuta de nuevo el algoritmo.\n",
        "\n",
        "Aquí hay una descripción general de las características mostradas por los clientes en cada grupo:\n",
        "\n",
        "Grupo 0: los clientes de este segmento muestran poca actualidad, frecuencia y valor monetario. Rara vez compran en la plataforma y son clientes de bajo potencial que probablemente dejarán de hacer negocios con la empresa de comercio electrónico.\n",
        "\n",
        "Grupo 1: los usuarios de este grupo muestran una alta antigüedad, pero no se les ha visto gastar mucho en la plataforma. Tampoco visitan el sitio con frecuencia. Esto indica que podrían ser clientes más nuevos que acaban de comenzar a hacer negocios con la empresa.\n",
        "\n",
        "Grupo 2: los clientes de este segmento muestran una frecuencia y actualidad medias y gastan mucho dinero en la plataforma. Esto indica que tienden a comprar artículos de alto valor o hacer compras al por mayor.\n",
        "\n",
        "Grupo 3: el segmento final comprende a los usuarios que muestran una alta actualidad y realizan compras frecuentes en la plataforma. Sin embargo, no gastan mucho en la plataforma, lo que podría significar que tienden a seleccionar artículos más baratos en cada compra."
      ]
    }
  ],
  "metadata": {
    "kernelspec": {
      "display_name": "Python 3 (ipykernel)",
      "language": "python",
      "name": "python3"
    },
    "language_info": {
      "codemirror_mode": {
        "name": "ipython",
        "version": 3
      },
      "file_extension": ".py",
      "mimetype": "text/x-python",
      "name": "python",
      "nbconvert_exporter": "python",
      "pygments_lexer": "ipython3",
      "version": "3.9.16"
    },
    "colab": {
      "provenance": [],
      "include_colab_link": true
    }
  },
  "nbformat": 4,
  "nbformat_minor": 5
}